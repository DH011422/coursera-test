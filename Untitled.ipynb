{
  "metadata": {
    "kernelspec": {
      "name": "python",
      "display_name": "Python (Pyodide)",
      "language": "python"
    },
    "language_info": {
      "codemirror_mode": {
        "name": "python",
        "version": 3
      },
      "file_extension": ".py",
      "mimetype": "text/x-python",
      "name": "python",
      "nbconvert_exporter": "python",
      "pygments_lexer": "ipython3",
      "version": "3.8"
    }
  },
  "nbformat_minor": 4,
  "nbformat": 4,
  "cells": [
    {
      "cell_type": "markdown",
      "source": "# Title of the Notebook\n",
      "metadata": {}
    },
    {
      "cell_type": "markdown",
      "source": "## Intro\nThis is a notebook with some content\r\n",
      "metadata": {}
    },
    {
      "cell_type": "markdown",
      "source": "## Some Data Science Languages\n- Python\n- R\n- Julia",
      "metadata": {}
    },
    {
      "cell_type": "markdown",
      "source": "## Some Data Science Libraries\r\n- NumPy\r\n- Pandas\r\n- Matplotlib\r\n- Seaborn\r\n- Scikit-learn",
      "metadata": {}
    },
    {
      "cell_type": "markdown",
      "source": "## Some Data Science Tools\n\n| Tool               | Description                               |\n|--------------------|-------------------------------------------|\n| Jupyter Notebook   | Interactive computing and data analysis   |\n| VS Code            | Integrated development environment (IDE) |\n| Git                | Version control system                    |",
      "metadata": {}
    },
    {
      "cell_type": "markdown",
      "source": "## Arithmetic Expression Examples\nThis section will go over some examples of arithmetic expressions.",
      "metadata": {}
    },
    {
      "cell_type": "code",
      "source": "# Example 1: Multiplication\nresult_multiply = 5 * 8\nprint(\"Multiplication result:\", result_multiply)\n\n# Example 2: Addition\nresult_addition = 10 + 15\nprint(\"Addition result:\", result_addition)",
      "metadata": {
        "trusted": true
      },
      "outputs": [
        {
          "name": "stdout",
          "text": "Multiplication result: 40\nAddition result: 25\n",
          "output_type": "stream"
        }
      ],
      "execution_count": 6
    },
    {
      "cell_type": "code",
      "source": "# Example: Convert minutes to hours\nimport random\nminutes = random.randint(0,180)\nhours = minutes / 60\nprint(f\"{minutes} minutes is equal to {hours} hours.\")",
      "metadata": {
        "trusted": true
      },
      "outputs": [
        {
          "name": "stdout",
          "text": "158 minutes is equal to 2.6333333333333333 hours.\n",
          "output_type": "stream"
        }
      ],
      "execution_count": 12
    },
    {
      "cell_type": "markdown",
      "source": "## Objectives\n- Understand basic data science languages.\n- Familiarize yourself with common data science libraries.\n- Explore popular tools used in data science.\n- Practice working with arithmetic expressions.\n- Learn to convert units in programming.",
      "metadata": {}
    },
    {
      "cell_type": "markdown",
      "source": "Author's Name: Yu-Hsiang Wang",
      "metadata": {}
    },
    {
      "cell_type": "code",
      "source": "",
      "metadata": {
        "trusted": true
      },
      "outputs": [],
      "execution_count": null
    }
  ]
}